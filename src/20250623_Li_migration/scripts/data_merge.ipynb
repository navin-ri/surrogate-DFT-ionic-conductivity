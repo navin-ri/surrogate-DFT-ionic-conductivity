{
 "cells": [
  {
   "cell_type": "code",
   "execution_count": null,
   "id": "64f9ce8c",
   "metadata": {},
   "outputs": [],
   "source": [
    "# Import the matminer feature set and all dynamic datasets\n",
    "\n",
    "import the samples in the presd"
   ]
  }
 ],
 "metadata": {
  "language_info": {
   "name": "python"
  }
 },
 "nbformat": 4,
 "nbformat_minor": 5
}
